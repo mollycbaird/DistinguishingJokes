{
 "cells": [
  {
   "cell_type": "markdown",
   "metadata": {},
   "source": [
    "# About this notebook:"
   ]
  },
  {
   "cell_type": "markdown",
   "metadata": {},
   "source": [
    "This is where we use the requests library and pandas to retrieve our data from the pushshift api, and then save it as a csv file.\n",
    "\n",
    "Endpoints can be found here:\n",
    "https://pushshift.io/api-parameters/"
   ]
  },
  {
   "cell_type": "markdown",
   "metadata": {},
   "source": [
    "### Table of Contents:\n",
    "- [Imports and Useful Functions](#Imports-and-Useful-Functions)\n",
    "- [Scraping /r/DadJokes](#Scraping-/r/DadJokes)\n",
    "- [Scraping /r/Jokes](#Scraping-/r/Jokes)\n",
    "- [Scraping /r/MommaJokes](#Scraping-/r/MommaJokes)\n",
    "- [Scraping /r/CleanJokes](#Scraping-/r/CleanJokes)\n",
    "- [Scraping /r/DirtyJokes](#Scraping-/r/DirtyJokes)"
   ]
  },
  {
   "cell_type": "markdown",
   "metadata": {},
   "source": [
    "# Imports and Useful Functions"
   ]
  },
  {
   "cell_type": "code",
   "execution_count": 1,
   "metadata": {},
   "outputs": [],
   "source": [
    "# importing the requeststs library and pandas\n",
    "\n",
    "import requests\n",
    "import pandas as pd"
   ]
  },
  {
   "cell_type": "code",
   "execution_count": 2,
   "metadata": {},
   "outputs": [],
   "source": [
    "# scrape_reddit function:\n",
    "# input is url for endpoint to scrape, and parameters for that endpoint\n",
    "# output is dataframe of subreddit submissions\n",
    "\n",
    "def scrape_reddit(url, params):\n",
    "    res = requests.get(url, params)\n",
    "    # 200 means the website gave us what we wanted and everything is ok\n",
    "    print('Status code: ', res.status_code)\n",
    "\n",
    "    # saving our requested data as a variable\n",
    "    data = res.json()\n",
    "\n",
    "    # creating a list of dictionaries, each dictionary is one post\n",
    "    posts = data['data'] \n",
    "    print('You have a list of ', len(posts), ' posts.')\n",
    "    \n",
    "    #youngest submission utc\n",
    "    youngest = posts[0]['created_utc']\n",
    "    print('Your most recent submission was created ', youngest)\n",
    "    \n",
    "    # oldest submission utc\n",
    "    oldest = posts[-1]['created_utc']\n",
    "    print('Your oldest submission was created ', oldest)\n",
    "    \n",
    "    # turn it into a dataframe!\n",
    "    df = pd.DataFrame(posts)\n",
    "    \n",
    "    return df, youngest, oldest\n"
   ]
  },
  {
   "cell_type": "code",
   "execution_count": 3,
   "metadata": {},
   "outputs": [],
   "source": [
    "# joins multiple scrapes together into one dataframe\n",
    "\n",
    "def merge_reddit_dfs(list_of_dfs):\n",
    "    # getting the columns that are common to both dataframes\n",
    "    list_of_cols = [df.columns for df in list_of_dfs]\n",
    "    common_cols = set(list_of_cols[0]).intersection(*list_of_cols)  # the star does list expansion, gets rid of the [] in list\n",
    "    \n",
    "    # getting list of the dataframes with just those common columns\n",
    "    list_of_dfs_common_cols = [df[common_cols] for df in list_of_dfs]\n",
    "    \n",
    "    #merging them all together\n",
    "    merged_df = pd.concat(list_of_dfs_common_cols)\n",
    "    \n",
    "    return merged_df"
   ]
  },
  {
   "cell_type": "code",
   "execution_count": 1,
   "metadata": {},
   "outputs": [],
   "source": [
    "# scrapes N entries from a subreddit and joins them together into one dataframe\n",
    "# N should ideally be a multiple of 500 \n",
    "# subreddit should be string name of the subreddit\n",
    "\n",
    "def scrape_N_subs(N, subreddit):\n",
    "    # will put each scrape in this list then merge them\n",
    "    list_of_dfs = []\n",
    "    \n",
    "    # initial scrape\n",
    "    sub_url = 'https://api.pushshift.io/reddit/search/submission'\n",
    "    params = {\n",
    "        'subreddit' : subreddit,\n",
    "        'size' : 500\n",
    "    }\n",
    "    first_scrape = scrape_reddit(sub_url, params)\n",
    "    list_of_dfs.append(first_scrape[0])\n",
    "    \n",
    "    # next scrapes\n",
    "    n = int(N/500)\n",
    "    for i in range(n-1):\n",
    "        params = {'subreddit' : subreddit,\n",
    "                  'size' : 500,\n",
    "                  'before': first_scrape[2]\n",
    "        }\n",
    "        if first_scrape[0].shape[0] < 500:\n",
    "            list_of_dfs.append(first_scrape[0])\n",
    "            big_df = merge_reddit_dfs(list_of_dfs)\n",
    "            return big_df\n",
    "        \n",
    "        else:\n",
    "            next_scrape = scrape_reddit(sub_url, params)\n",
    "            first_scrape = next_scrape\n",
    "            list_of_dfs.append(first_scrape[0])\n",
    "    \n",
    "    # merge them all \n",
    "    big_df = merge_reddit_dfs(list_of_dfs)\n",
    "    \n",
    "    return big_df"
   ]
  },
  {
   "cell_type": "markdown",
   "metadata": {},
   "source": [
    "# Scraping /r/DadJokes"
   ]
  },
  {
   "cell_type": "code",
   "execution_count": 7,
   "metadata": {},
   "outputs": [
    {
     "name": "stdout",
     "output_type": "stream",
     "text": [
      "Status code:  200\n",
      "You have a list of  500  posts.\n",
      "Your most recent submission was created  1587602951\n",
      "Your oldest submission was created  1587391477\n",
      "Status code:  200\n",
      "You have a list of  500  posts.\n",
      "Your most recent submission was created  1587391373\n",
      "Your oldest submission was created  1587156339\n",
      "Status code:  200\n",
      "You have a list of  500  posts.\n",
      "Your most recent submission was created  1587155720\n",
      "Your oldest submission was created  1586922099\n",
      "Status code:  200\n",
      "You have a list of  500  posts.\n",
      "Your most recent submission was created  1586921791\n",
      "Your oldest submission was created  1586702675\n",
      "Status code:  200\n",
      "You have a list of  500  posts.\n",
      "Your most recent submission was created  1586702508\n",
      "Your oldest submission was created  1586478853\n",
      "Status code:  200\n",
      "You have a list of  500  posts.\n",
      "Your most recent submission was created  1586478328\n",
      "Your oldest submission was created  1586262381\n",
      "Status code:  200\n",
      "You have a list of  500  posts.\n",
      "Your most recent submission was created  1586262341\n",
      "Your oldest submission was created  1586035299\n",
      "Status code:  200\n",
      "You have a list of  500  posts.\n",
      "Your most recent submission was created  1586034183\n",
      "Your oldest submission was created  1585795397\n",
      "Status code:  200\n",
      "You have a list of  500  posts.\n",
      "Your most recent submission was created  1585795193\n",
      "Your oldest submission was created  1585575297\n",
      "Status code:  200\n",
      "You have a list of  500  posts.\n",
      "Your most recent submission was created  1585574739\n",
      "Your oldest submission was created  1585321066\n"
     ]
    }
   ],
   "source": [
    "dad_jokes_5000 = scrape_N_subs(5000, 'dadjokes')"
   ]
  },
  {
   "cell_type": "code",
   "execution_count": 8,
   "metadata": {},
   "outputs": [
    {
     "data": {
      "text/plain": [
       "(5000, 62)"
      ]
     },
     "execution_count": 8,
     "metadata": {},
     "output_type": "execute_result"
    }
   ],
   "source": [
    "# Checking the shape\n",
    "dad_jokes_5000.shape"
   ]
  },
  {
   "cell_type": "code",
   "execution_count": 9,
   "metadata": {},
   "outputs": [],
   "source": [
    "# saving as a csv file\n",
    "dad_jokes_5000.to_csv('../data/dad_jokes_5000.csv', index = False)"
   ]
  },
  {
   "cell_type": "markdown",
   "metadata": {},
   "source": [
    "# Scraping /r/Jokes"
   ]
  },
  {
   "cell_type": "code",
   "execution_count": 10,
   "metadata": {},
   "outputs": [
    {
     "name": "stdout",
     "output_type": "stream",
     "text": [
      "Status code:  200\n",
      "You have a list of  500  posts.\n",
      "Your most recent submission was created  1587603167\n",
      "Your oldest submission was created  1587537841\n",
      "Status code:  200\n",
      "You have a list of  500  posts.\n",
      "Your most recent submission was created  1587537787\n",
      "Your oldest submission was created  1587475986\n",
      "Status code:  200\n",
      "You have a list of  500  posts.\n",
      "Your most recent submission was created  1587475983\n",
      "Your oldest submission was created  1587404729\n",
      "Status code:  200\n",
      "You have a list of  500  posts.\n",
      "Your most recent submission was created  1587404601\n",
      "Your oldest submission was created  1587338631\n",
      "Status code:  200\n",
      "You have a list of  500  posts.\n",
      "Your most recent submission was created  1587338617\n",
      "Your oldest submission was created  1587279167\n",
      "Status code:  200\n",
      "You have a list of  500  posts.\n",
      "Your most recent submission was created  1587279084\n",
      "Your oldest submission was created  1587206841\n",
      "Status code:  200\n",
      "You have a list of  500  posts.\n",
      "Your most recent submission was created  1587206735\n",
      "Your oldest submission was created  1587136342\n",
      "Status code:  200\n",
      "You have a list of  500  posts.\n",
      "Your most recent submission was created  1587136261\n",
      "Your oldest submission was created  1587066825\n",
      "Status code:  200\n",
      "You have a list of  500  posts.\n",
      "Your most recent submission was created  1587066724\n",
      "Your oldest submission was created  1587003296\n",
      "Status code:  200\n",
      "You have a list of  500  posts.\n",
      "Your most recent submission was created  1587003003\n",
      "Your oldest submission was created  1586944791\n"
     ]
    }
   ],
   "source": [
    "jokes_5000 = scrape_N_subs(5000, 'jokes')"
   ]
  },
  {
   "cell_type": "code",
   "execution_count": 12,
   "metadata": {},
   "outputs": [
    {
     "data": {
      "text/plain": [
       "(5000, 60)"
      ]
     },
     "execution_count": 12,
     "metadata": {},
     "output_type": "execute_result"
    }
   ],
   "source": [
    "jokes_5000.shape"
   ]
  },
  {
   "cell_type": "code",
   "execution_count": 13,
   "metadata": {},
   "outputs": [],
   "source": [
    "# saving as a csv file\n",
    "jokes_5000.to_csv('../data/jokes_5000.csv', index = False)"
   ]
  },
  {
   "cell_type": "markdown",
   "metadata": {},
   "source": [
    "# Scraping /r/MommaJokes"
   ]
  },
  {
   "cell_type": "code",
   "execution_count": 11,
   "metadata": {},
   "outputs": [
    {
     "name": "stdout",
     "output_type": "stream",
     "text": [
      "Status code:  200\n",
      "You have a list of  500  posts.\n",
      "Your most recent submission was created  1587647159\n",
      "Your oldest submission was created  1446059155\n",
      "Status code:  200\n",
      "You have a list of  500  posts.\n",
      "Your most recent submission was created  1446056672\n",
      "Your oldest submission was created  1441775887\n",
      "Status code:  200\n",
      "You have a list of  186  posts.\n",
      "Your most recent submission was created  1441480002\n",
      "Your oldest submission was created  1393611335\n"
     ]
    }
   ],
   "source": [
    "momma_jokes_5000 = scrape_N_subs(5000, 'mommajokes')"
   ]
  },
  {
   "cell_type": "code",
   "execution_count": 14,
   "metadata": {},
   "outputs": [
    {
     "data": {
      "text/plain": [
       "(1372, 31)"
      ]
     },
     "execution_count": 14,
     "metadata": {},
     "output_type": "execute_result"
    }
   ],
   "source": [
    "momma_jokes_5000.shape"
   ]
  },
  {
   "cell_type": "code",
   "execution_count": 15,
   "metadata": {},
   "outputs": [],
   "source": [
    "momma_jokes_1372 = momma_jokes_5000"
   ]
  },
  {
   "cell_type": "code",
   "execution_count": 16,
   "metadata": {},
   "outputs": [],
   "source": [
    "# saving as a csv file\n",
    "momma_jokes_1372.to_csv('../data/momma_jokes_1372.csv', index = False)"
   ]
  },
  {
   "cell_type": "markdown",
   "metadata": {},
   "source": [
    "# Scraping /r/CleanJokes"
   ]
  },
  {
   "cell_type": "code",
   "execution_count": 55,
   "metadata": {},
   "outputs": [
    {
     "name": "stdout",
     "output_type": "stream",
     "text": [
      "Status code:  200\n",
      "You have a list of  500  posts.\n",
      "Your most recent submission was created  1587686893\n",
      "Your oldest submission was created  1576873832\n",
      "Status code:  200\n",
      "You have a list of  500  posts.\n",
      "Your most recent submission was created  1576870290\n",
      "Your oldest submission was created  1564617422\n",
      "Status code:  200\n",
      "You have a list of  500  posts.\n",
      "Your most recent submission was created  1564613409\n",
      "Your oldest submission was created  1556620361\n",
      "Status code:  200\n",
      "You have a list of  500  posts.\n",
      "Your most recent submission was created  1556616051\n",
      "Your oldest submission was created  1549313207\n",
      "Status code:  200\n",
      "You have a list of  500  posts.\n",
      "Your most recent submission was created  1549292959\n",
      "Your oldest submission was created  1540182881\n",
      "Status code:  200\n",
      "You have a list of  500  posts.\n",
      "Your most recent submission was created  1540182837\n",
      "Your oldest submission was created  1531015800\n",
      "Status code:  200\n",
      "You have a list of  500  posts.\n",
      "Your most recent submission was created  1530968228\n",
      "Your oldest submission was created  1526575862\n",
      "Status code:  200\n",
      "You have a list of  500  posts.\n",
      "Your most recent submission was created  1526558161\n",
      "Your oldest submission was created  1522649696\n",
      "Status code:  200\n",
      "You have a list of  500  posts.\n",
      "Your most recent submission was created  1522648608\n",
      "Your oldest submission was created  1519623660\n",
      "Status code:  200\n",
      "You have a list of  500  posts.\n",
      "Your most recent submission was created  1519623611\n",
      "Your oldest submission was created  1512395287\n"
     ]
    }
   ],
   "source": [
    "clean_jokes_5000 = scrape_N_subs(5000, 'cleanjokes')"
   ]
  },
  {
   "cell_type": "code",
   "execution_count": 56,
   "metadata": {},
   "outputs": [
    {
     "data": {
      "text/plain": [
       "(5000, 39)"
      ]
     },
     "execution_count": 56,
     "metadata": {},
     "output_type": "execute_result"
    }
   ],
   "source": [
    "clean_jokes_5000.shape"
   ]
  },
  {
   "cell_type": "code",
   "execution_count": 57,
   "metadata": {},
   "outputs": [],
   "source": [
    "# saving as a csv file\n",
    "clean_jokes_5000.to_csv('../data/clean_jokes_5000.csv', index = False)"
   ]
  },
  {
   "cell_type": "markdown",
   "metadata": {},
   "source": [
    "# Scraping /r/DirtyJokes"
   ]
  },
  {
   "cell_type": "code",
   "execution_count": 58,
   "metadata": {},
   "outputs": [
    {
     "name": "stdout",
     "output_type": "stream",
     "text": [
      "Status code:  200\n",
      "You have a list of  500  posts.\n",
      "Your most recent submission was created  1587691384\n",
      "Your oldest submission was created  1579088194\n",
      "Status code:  200\n",
      "You have a list of  500  posts.\n",
      "Your most recent submission was created  1579075794\n",
      "Your oldest submission was created  1570677946\n",
      "Status code:  200\n",
      "You have a list of  500  posts.\n",
      "Your most recent submission was created  1570673793\n",
      "Your oldest submission was created  1562854506\n",
      "Status code:  200\n",
      "You have a list of  500  posts.\n",
      "Your most recent submission was created  1562845439\n",
      "Your oldest submission was created  1554737922\n",
      "Status code:  200\n",
      "You have a list of  500  posts.\n",
      "Your most recent submission was created  1554704805\n",
      "Your oldest submission was created  1539950702\n",
      "Status code:  200\n",
      "You have a list of  500  posts.\n",
      "Your most recent submission was created  1539884642\n",
      "Your oldest submission was created  1513476202\n",
      "Status code:  200\n",
      "You have a list of  500  posts.\n",
      "Your most recent submission was created  1513463725\n",
      "Your oldest submission was created  1478524145\n",
      "Status code:  200\n",
      "You have a list of  500  posts.\n",
      "Your most recent submission was created  1478515205\n",
      "Your oldest submission was created  1390056971\n",
      "Status code:  200\n",
      "You have a list of  138  posts.\n",
      "Your most recent submission was created  1389895158\n",
      "Your oldest submission was created  1243887560\n"
     ]
    }
   ],
   "source": [
    "dirty_jokes_5000 = scrape_N_subs(5000, 'dirtyjokes')"
   ]
  },
  {
   "cell_type": "code",
   "execution_count": 59,
   "metadata": {},
   "outputs": [
    {
     "data": {
      "text/plain": [
       "(4276, 24)"
      ]
     },
     "execution_count": 59,
     "metadata": {},
     "output_type": "execute_result"
    }
   ],
   "source": [
    "dirty_jokes_5000.shape"
   ]
  },
  {
   "cell_type": "code",
   "execution_count": 60,
   "metadata": {},
   "outputs": [],
   "source": [
    "# saving as a csv file\n",
    "dirty_jokes_5000.to_csv('../data/dirty_jokes_5000.csv', index = False)"
   ]
  },
  {
   "cell_type": "markdown",
   "metadata": {},
   "source": [
    "# Comments"
   ]
  },
  {
   "cell_type": "code",
   "execution_count": 20,
   "metadata": {},
   "outputs": [
    {
     "name": "stdout",
     "output_type": "stream",
     "text": [
      "Status code:  200\n",
      "You have a list of  1000  posts.\n",
      "Your most recent submission was created  1587537852\n",
      "Your oldest submission was created  1587562910\n"
     ]
    }
   ],
   "source": [
    "# getting first 500 comments \n",
    "\n",
    "url = 'https://api.pushshift.io/reddit/search/comment'\n",
    "\n",
    "params = {\n",
    "        'subreddit' : 'jokes',\n",
    "        'size' : 1000,\n",
    "        'nest_level' : 1,\n",
    "        'after' : 1587537841,\n",
    "        'before' : 1587603167\n",
    "    }\n",
    "\n",
    "jokes_comments = scrape_reddit(url, params)"
   ]
  },
  {
   "cell_type": "code",
   "execution_count": 21,
   "metadata": {},
   "outputs": [
    {
     "data": {
      "text/plain": [
       "t3_g5s8fo    575\n",
       "t3_g5thmx     66\n",
       "t3_g5xr6u     18\n",
       "t3_g5wsca     11\n",
       "t3_g5ymcy     11\n",
       "            ... \n",
       "t3_fvvcrf      1\n",
       "t3_g5vthy      1\n",
       "t3_g3478i      1\n",
       "t3_g5s0of      1\n",
       "t3_g5yvlp      1\n",
       "Name: link_id, Length: 131, dtype: int64"
      ]
     },
     "execution_count": 21,
     "metadata": {},
     "output_type": "execute_result"
    }
   ],
   "source": [
    "jc_df = jokes_comments[0]\n",
    "jc_df['link_id'].value_counts()\n"
   ]
  },
  {
   "cell_type": "code",
   "execution_count": null,
   "metadata": {},
   "outputs": [],
   "source": []
  },
  {
   "cell_type": "code",
   "execution_count": 22,
   "metadata": {},
   "outputs": [],
   "source": [
    "jokes_5000 = pd.read_csv('../data/jokes_5000.csv')"
   ]
  },
  {
   "cell_type": "code",
   "execution_count": 24,
   "metadata": {},
   "outputs": [],
   "source": [
    "linked_sub_com = []\n",
    "for sub_id in jokes_5000['id']:\n",
    "    for com_id in jc_df['link_id']:\n",
    "        if sub_id in com_id:\n",
    "            linked_sub_com.append(sub_id)"
   ]
  },
  {
   "cell_type": "code",
   "execution_count": 26,
   "metadata": {},
   "outputs": [
    {
     "data": {
      "text/plain": [
       "994"
      ]
     },
     "execution_count": 26,
     "metadata": {},
     "output_type": "execute_result"
    }
   ],
   "source": [
    "len(linked_sub_com)"
   ]
  },
  {
   "cell_type": "code",
   "execution_count": 29,
   "metadata": {},
   "outputs": [],
   "source": [
    "com_id_no_t3 = []\n",
    "for com_id in jc_df['link_id']:\n",
    "    com_id_no_t3.append(com_id.strip('t3_'))"
   ]
  },
  {
   "cell_type": "code",
   "execution_count": 52,
   "metadata": {},
   "outputs": [],
   "source": [
    "comment_col = []\n",
    "for sub_id in set(linked_sub_com):\n",
    "    label = 't3_'+ sub_id\n",
    "    comment_body = jc_df.loc[jc_df['link_id'] == label,'body'].head(1)\n",
    "    comment_body = list(comment_body)\n",
    "    comment_col.append([sub_id, *comment_body])"
   ]
  },
  {
   "cell_type": "code",
   "execution_count": 54,
   "metadata": {},
   "outputs": [
    {
     "data": {
      "text/plain": [
       "126"
      ]
     },
     "execution_count": 54,
     "metadata": {},
     "output_type": "execute_result"
    }
   ],
   "source": []
  },
  {
   "cell_type": "code",
   "execution_count": 38,
   "metadata": {},
   "outputs": [],
   "source": [
    "comment_body = jc_df.loc[jc_df['link_id'] == 't3_g5vthy','body'].head(1)"
   ]
  },
  {
   "cell_type": "code",
   "execution_count": 47,
   "metadata": {},
   "outputs": [],
   "source": [
    "things = list(stuff)"
   ]
  },
  {
   "cell_type": "code",
   "execution_count": 49,
   "metadata": {},
   "outputs": [
    {
     "data": {
      "text/plain": [
       "['both bark at me']"
      ]
     },
     "execution_count": 49,
     "metadata": {},
     "output_type": "execute_result"
    }
   ],
   "source": [
    "molly = []\n",
    "molly.append(*things)\n",
    "molly"
   ]
  },
  {
   "cell_type": "code",
   "execution_count": null,
   "metadata": {},
   "outputs": [],
   "source": [
    "train.loc[train['Pclass'] == 3, 'Fare']"
   ]
  },
  {
   "cell_type": "code",
   "execution_count": null,
   "metadata": {},
   "outputs": [],
   "source": [
    "jokes_comments.shape"
   ]
  },
  {
   "cell_type": "code",
   "execution_count": null,
   "metadata": {},
   "outputs": [],
   "source": [
    "cols = jokes_comments.columns"
   ]
  },
  {
   "cell_type": "code",
   "execution_count": null,
   "metadata": {},
   "outputs": [],
   "source": [
    "id_cols = []\n",
    "for col in cols:\n",
    "    if 'id' in col:\n",
    "        id_cols.append(col)"
   ]
  },
  {
   "cell_type": "code",
   "execution_count": null,
   "metadata": {},
   "outputs": [],
   "source": [
    "id_cols"
   ]
  },
  {
   "cell_type": "code",
   "execution_count": null,
   "metadata": {},
   "outputs": [],
   "source": [
    "joke_cols = jokes.columns\n",
    "joke_id_cols = []\n",
    "for col in joke_cols:\n",
    "    if 'id' in col:\n",
    "        joke_id_cols.append(col)"
   ]
  },
  {
   "cell_type": "code",
   "execution_count": null,
   "metadata": {},
   "outputs": [],
   "source": [
    "joke_id_cols"
   ]
  },
  {
   "cell_type": "code",
   "execution_count": null,
   "metadata": {},
   "outputs": [],
   "source": [
    "jokes['id'].head()"
   ]
  },
  {
   "cell_type": "code",
   "execution_count": null,
   "metadata": {},
   "outputs": [],
   "source": [
    "jokes_comments[l5]"
   ]
  },
  {
   "cell_type": "code",
   "execution_count": null,
   "metadata": {},
   "outputs": [],
   "source": [
    "jokes_comments['link_id']"
   ]
  },
  {
   "cell_type": "code",
   "execution_count": null,
   "metadata": {},
   "outputs": [],
   "source": [
    "l5 = [('g5qyrw' in lid) for lid in jokes_comments['link_id']]"
   ]
  },
  {
   "cell_type": "code",
   "execution_count": null,
   "metadata": {},
   "outputs": [],
   "source": [
    "l5"
   ]
  },
  {
   "cell_type": "markdown",
   "metadata": {},
   "source": [
    "# Comment id's for submissions:"
   ]
  },
  {
   "cell_type": "code",
   "execution_count": null,
   "metadata": {},
   "outputs": [],
   "source": []
  },
  {
   "cell_type": "code",
   "execution_count": null,
   "metadata": {},
   "outputs": [],
   "source": [
    "# getting first 500 \n",
    "url = 'https://api.pushshift.io/reddit/submission/comment_ids/{base36 submission id}'\n",
    "params = {\n",
    "        'subreddit' : 'dadjokes',\n",
    "    }\n",
    "\n",
    "dad_jokes_sub_com = scrape_reddit_subs(url, params)"
   ]
  },
  {
   "cell_type": "code",
   "execution_count": null,
   "metadata": {},
   "outputs": [],
   "source": [
    "\n",
    "params = {\n",
    "        'subreddit' : 'Jokes',\n",
    "    }\n",
    "res = requests.get('https://api.pushshift.io/reddit/submission/comment_ids/{base36 submission id}', params)"
   ]
  },
  {
   "cell_type": "code",
   "execution_count": null,
   "metadata": {},
   "outputs": [],
   "source": [
    "res.status_code"
   ]
  },
  {
   "cell_type": "code",
   "execution_count": null,
   "metadata": {},
   "outputs": [],
   "source": []
  }
 ],
 "metadata": {
  "kernelspec": {
   "display_name": "Python 3",
   "language": "python",
   "name": "python3"
  },
  "language_info": {
   "codemirror_mode": {
    "name": "ipython",
    "version": 3
   },
   "file_extension": ".py",
   "mimetype": "text/x-python",
   "name": "python",
   "nbconvert_exporter": "python",
   "pygments_lexer": "ipython3",
   "version": "3.7.4"
  }
 },
 "nbformat": 4,
 "nbformat_minor": 2
}
