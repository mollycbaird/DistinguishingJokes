{
 "cells": [
  {
   "cell_type": "markdown",
   "metadata": {},
   "source": [
    "# About this notebook:"
   ]
  },
  {
   "cell_type": "markdown",
   "metadata": {},
   "source": [
    "This is where we cleanup the scraped web data."
   ]
  },
  {
   "cell_type": "markdown",
   "metadata": {},
   "source": [
    "### Table of Contents:\n",
    "- [Imports and Useful Functions](#Imports-and-Useful-Functions)\n",
    "- [Cleaning Jokes and DadJokes](#Cleaning-Jokes-and-DadJokes)\n",
    "- [Cleaning Jokes and MommaJokes](#Cleaning-Jokes-and-MommaJokes)\n",
    "- [Cleaning CleanJokes and DirtyJokes](#Cleaning-CleanJokes-and-DirtyJokes)\n"
   ]
  },
  {
   "cell_type": "markdown",
   "metadata": {},
   "source": [
    "# Imports and Useful Functions"
   ]
  },
  {
   "cell_type": "code",
   "execution_count": 20,
   "metadata": {},
   "outputs": [],
   "source": [
    "import pandas as pd\n",
    "import numpy as np\n"
   ]
  },
  {
   "cell_type": "code",
   "execution_count": 2,
   "metadata": {},
   "outputs": [],
   "source": [
    "def null_cleaning(df):\n",
    "    null_cols = []\n",
    "    problem_cols = []\n",
    "    \n",
    "    # looping through the columns\n",
    "    for i in range(df.shape[1]):\n",
    "        # counting the number of null vals in the column\n",
    "        num_nulls = df.isnull().sum()[i]\n",
    "        # if there are more than 0 null values, add the column to our list, and see what % of the data it is\n",
    "        if num_nulls != 0:\n",
    "            col_name = df.columns[i]\n",
    "            percent_of_data = round(num_nulls/df.shape[0], 3)\n",
    "            null_cols.append([col_name, num_nulls, percent_of_data])\n",
    "            # if this column is over 20% nulls, then mark it as a problem column\n",
    "            if percent_of_data >= 0.2:\n",
    "                problem_cols.append(col_name)\n",
    "                \n",
    "    # what happens if we drop the problem columns?\n",
    "    df_no_prob_cols = df.drop(columns = problem_cols)\n",
    "    prob_cols_percent = df_no_prob_cols.shape[1] / df.shape[1]\n",
    "    \n",
    "    #what happens is we drop the problem rows too?\n",
    "    df_no_nulls = df_no_prob_cols.dropna()\n",
    "    prob_rows_percent = df_no_nulls.shape[0]/df_no_prob_cols.shape[0]\n",
    "    \n",
    "    print(\"The problem columns are: \", problem_cols)\n",
    "    print(\"After dropping the problem columns, you are left with \", prob_cols_percent, \"% of your columns.\")\n",
    "    print(\"After dropping the problem columns, and then dropping all rows containing nulls,\\n you are left with \", \n",
    "          prob_rows_percent, \"% of your rows.\")\n",
    "    return null_cols\n"
   ]
  },
  {
   "cell_type": "code",
   "execution_count": 3,
   "metadata": {},
   "outputs": [],
   "source": [
    "def merge_reddit_dfs(list_of_dfs):\n",
    "    # getting the columns that are common to both dataframes\n",
    "    list_of_cols = [df.columns for df in list_of_dfs]\n",
    "    common_cols = set(list_of_cols[0]).intersection(*list_of_cols)  # the star does list expansion, gets rid of the [] in list\n",
    "    \n",
    "    # getting list of the dataframes with just those common columns\n",
    "    list_of_dfs_common_cols = [df[common_cols] for df in list_of_dfs]\n",
    "    \n",
    "    #merging them all together\n",
    "    merged_df = pd.concat(list_of_dfs_common_cols)\n",
    "    \n",
    "    return merged_df"
   ]
  },
  {
   "cell_type": "code",
   "execution_count": 4,
   "metadata": {},
   "outputs": [],
   "source": [
    "# replace the nulls with the mean for the numeric columns\n",
    "# and replace the nans in object columns with the empty string\n",
    "\n",
    "\n",
    "def replace_nans(df):\n",
    "    # replacing nans in numeric columns with the mean\n",
    "    numeric = df.select_dtypes(exclude=['object','bool'])\n",
    "    for col in numeric.columns:\n",
    "        m = df[col].mean()\n",
    "        df[col].fillna(m, inplace = True)\n",
    "    \n",
    "    #replacing nans in object columns with the empty string\n",
    "    non_numeric = df.select_dtypes('object')\n",
    "    for col in non_numeric.columns:\n",
    "        df[col].fillna('', inplace = True)"
   ]
  },
  {
   "cell_type": "code",
   "execution_count": 5,
   "metadata": {},
   "outputs": [],
   "source": [
    "def not_helpful_col(df):\n",
    "    cols_to_drop = []\n",
    "    for col in df.columns:\n",
    "        n = df[col].value_counts().shape[0]\n",
    "        if n == 1:\n",
    "            cols_to_drop.append(col)\n",
    "    return cols_to_drop"
   ]
  },
  {
   "cell_type": "markdown",
   "metadata": {},
   "source": [
    "# Cleaning Jokes and DadJokes"
   ]
  },
  {
   "cell_type": "code",
   "execution_count": 102,
   "metadata": {},
   "outputs": [],
   "source": [
    "# read in data\n",
    "\n",
    "jokes = pd.read_csv('../data/jokes_5000.csv')\n",
    "dad_jokes = pd.read_csv('../data/dad_jokes_5000.csv')"
   ]
  },
  {
   "cell_type": "code",
   "execution_count": 103,
   "metadata": {},
   "outputs": [
    {
     "name": "stdout",
     "output_type": "stream",
     "text": [
      "The problem columns are:  ['removed_by_category', 'author_flair_text', 'link_flair_css_class', 'author_cakeday', 'link_flair_text', 'author_flair_css_class', 'link_flair_background_color']\n",
      "After dropping the problem columns, you are left with  0.8833333333333333 % of your columns.\n",
      "After dropping the problem columns, and then dropping all rows containing nulls,\n",
      " you are left with  0.897 % of your rows.\n"
     ]
    },
    {
     "data": {
      "text/plain": [
       "[['selftext', 177, 0.035],\n",
       " ['author_flair_richtext', 504, 0.101],\n",
       " ['removed_by_category', 3578, 0.716],\n",
       " ['author_flair_text', 5000, 1.0],\n",
       " ['author_flair_type', 504, 0.101],\n",
       " ['link_flair_css_class', 4339, 0.868],\n",
       " ['author_premium', 504, 0.101],\n",
       " ['author_patreon_flair', 504, 0.101],\n",
       " ['author_cakeday', 4954, 0.991],\n",
       " ['author_fullname', 504, 0.101],\n",
       " ['link_flair_text', 4339, 0.868],\n",
       " ['author_flair_css_class', 5000, 1.0],\n",
       " ['link_flair_background_color', 5000, 1.0]]"
      ]
     },
     "execution_count": 103,
     "metadata": {},
     "output_type": "execute_result"
    }
   ],
   "source": [
    "null_cleaning(jokes)"
   ]
  },
  {
   "cell_type": "code",
   "execution_count": 104,
   "metadata": {},
   "outputs": [],
   "source": [
    "# the columns to drop don't seem that important\n",
    "jokes.drop(columns = ['removed_by_category', 'author_flair_text', 'link_flair_css_class', 'author_cakeday', 'link_flair_text', 'author_flair_css_class', 'link_flair_background_color'],\n",
    "           inplace = True)"
   ]
  },
  {
   "cell_type": "code",
   "execution_count": 105,
   "metadata": {},
   "outputs": [],
   "source": [
    "# dropping same from dad_jokes\n",
    "dad_jokes.drop(columns = ['removed_by_category', 'author_flair_text', 'link_flair_css_class', 'author_cakeday', 'link_flair_text', 'author_flair_css_class', 'link_flair_background_color'],\n",
    "               inplace = True)"
   ]
  },
  {
   "cell_type": "code",
   "execution_count": 106,
   "metadata": {},
   "outputs": [],
   "source": [
    "# now dropping the rest of the null rows\n",
    "jokes.dropna(inplace = True)"
   ]
  },
  {
   "cell_type": "code",
   "execution_count": 107,
   "metadata": {},
   "outputs": [
    {
     "name": "stdout",
     "output_type": "stream",
     "text": [
      "The problem columns are:  ['author_flair_text_color', 'author_flair_background_color', 'banned_by']\n",
      "After dropping the problem columns, you are left with  0.9454545454545454 % of your columns.\n",
      "After dropping the problem columns, and then dropping all rows containing nulls,\n",
      " you are left with  0.9282 % of your rows.\n"
     ]
    },
    {
     "data": {
      "text/plain": [
       "[['selftext', 187, 0.037],\n",
       " ['author_flair_text_color', 4681, 0.936],\n",
       " ['author_flair_richtext', 319, 0.064],\n",
       " ['author_flair_type', 319, 0.064],\n",
       " ['author_premium', 319, 0.064],\n",
       " ['author_patreon_flair', 319, 0.064],\n",
       " ['author_fullname', 319, 0.064],\n",
       " ['author_flair_background_color', 5000, 1.0],\n",
       " ['banned_by', 4853, 0.971]]"
      ]
     },
     "execution_count": 107,
     "metadata": {},
     "output_type": "execute_result"
    }
   ],
   "source": [
    "# checking nulls in dad_jokes\n",
    "null_cleaning(dad_jokes)"
   ]
  },
  {
   "cell_type": "code",
   "execution_count": 108,
   "metadata": {},
   "outputs": [],
   "source": [
    "# don't care about flar for now\n",
    "# Let's drop edited and treatment tags\n",
    "dad_jokes.drop(columns = ['author_flair_text_color', 'author_flair_background_color', 'banned_by'], \n",
    "               inplace = True)\n",
    "#jokes.drop(columns = ['author_flair_text_color', 'author_flair_background_color', 'banned_by'], \n",
    "#           inplace = True)"
   ]
  },
  {
   "cell_type": "code",
   "execution_count": 109,
   "metadata": {},
   "outputs": [],
   "source": [
    "# now dropping the rest of the null rows because we will still have over 90% of the data\n",
    "dad_jokes.dropna(inplace = True)"
   ]
  },
  {
   "cell_type": "code",
   "execution_count": 110,
   "metadata": {},
   "outputs": [
    {
     "name": "stdout",
     "output_type": "stream",
     "text": [
      "0\n",
      "0\n"
     ]
    }
   ],
   "source": [
    "print(dad_jokes.isna().sum().sum())\n",
    "print(jokes.isna().sum().sum())"
   ]
  },
  {
   "cell_type": "code",
   "execution_count": 111,
   "metadata": {},
   "outputs": [
    {
     "name": "stdout",
     "output_type": "stream",
     "text": [
      "(4641, 52)\n",
      "(4485, 53)\n"
     ]
    }
   ],
   "source": [
    "print(dad_jokes.shape)\n",
    "print(jokes.shape)"
   ]
  },
  {
   "cell_type": "code",
   "execution_count": 112,
   "metadata": {},
   "outputs": [],
   "source": [
    "# now let's merge them \n",
    "jokes_v_dadjokes = merge_reddit_dfs([jokes, dad_jokes])"
   ]
  },
  {
   "cell_type": "code",
   "execution_count": 113,
   "metadata": {},
   "outputs": [
    {
     "data": {
      "text/plain": [
       "(9126, 52)"
      ]
     },
     "execution_count": 113,
     "metadata": {},
     "output_type": "execute_result"
    }
   ],
   "source": [
    "# check that we still have over 9,000 rows\n",
    "jokes_v_dadjokes.shape"
   ]
  },
  {
   "cell_type": "code",
   "execution_count": 114,
   "metadata": {},
   "outputs": [],
   "source": [
    "# let's look for columns that have the same value for all of jokes, \n",
    "# and same value for all of dadjokes\n",
    "# and then drop those\n",
    "constant_joke_cols = not_helpful_col(jokes)"
   ]
  },
  {
   "cell_type": "code",
   "execution_count": 115,
   "metadata": {},
   "outputs": [
    {
     "data": {
      "text/plain": [
       "['treatment_tags',\n",
       " 'stickied',\n",
       " 'is_video',\n",
       " 'pinned',\n",
       " 'pwls',\n",
       " 'author_flair_richtext',\n",
       " 'contest_mode',\n",
       " 'subreddit_id',\n",
       " 'media_only',\n",
       " 'author_flair_type',\n",
       " 'domain',\n",
       " 'is_meta',\n",
       " 'link_flair_type',\n",
       " 'author_patreon_flair',\n",
       " 'awarders',\n",
       " 'locked',\n",
       " 'subreddit_type',\n",
       " 'can_mod_post',\n",
       " 'is_reddit_media_domain',\n",
       " 'link_flair_text_color',\n",
       " 'is_original_content',\n",
       " 'subreddit',\n",
       " 'is_self',\n",
       " 'parent_whitelist_status',\n",
       " 'link_flair_richtext']"
      ]
     },
     "execution_count": 115,
     "metadata": {},
     "output_type": "execute_result"
    }
   ],
   "source": [
    "constant_joke_cols"
   ]
  },
  {
   "cell_type": "code",
   "execution_count": 116,
   "metadata": {},
   "outputs": [],
   "source": [
    "constant_dadjoke_cols = not_helpful_col(dad_jokes)"
   ]
  },
  {
   "cell_type": "code",
   "execution_count": 117,
   "metadata": {},
   "outputs": [
    {
     "data": {
      "text/plain": [
       "['stickied',\n",
       " 'is_video',\n",
       " 'pinned',\n",
       " 'pwls',\n",
       " 'author_flair_richtext',\n",
       " 'contest_mode',\n",
       " 'subreddit_id',\n",
       " 'media_only',\n",
       " 'author_flair_type',\n",
       " 'domain',\n",
       " 'is_meta',\n",
       " 'link_flair_type',\n",
       " 'author_patreon_flair',\n",
       " 'awarders',\n",
       " 'subreddit_type',\n",
       " 'can_mod_post',\n",
       " 'is_reddit_media_domain',\n",
       " 'link_flair_text_color',\n",
       " 'is_original_content',\n",
       " 'subreddit',\n",
       " 'is_self',\n",
       " 'parent_whitelist_status',\n",
       " 'link_flair_richtext']"
      ]
     },
     "execution_count": 117,
     "metadata": {},
     "output_type": "execute_result"
    }
   ],
   "source": [
    "constant_dadjoke_cols"
   ]
  },
  {
   "cell_type": "code",
   "execution_count": 118,
   "metadata": {},
   "outputs": [],
   "source": [
    "not_useful = constant_joke_cols + constant_dadjoke_cols"
   ]
  },
  {
   "cell_type": "code",
   "execution_count": 119,
   "metadata": {},
   "outputs": [
    {
     "data": {
      "text/plain": [
       "['treatment_tags',\n",
       " 'stickied',\n",
       " 'is_video',\n",
       " 'pinned',\n",
       " 'pwls',\n",
       " 'author_flair_richtext',\n",
       " 'contest_mode',\n",
       " 'subreddit_id',\n",
       " 'media_only',\n",
       " 'author_flair_type',\n",
       " 'domain',\n",
       " 'is_meta',\n",
       " 'link_flair_type',\n",
       " 'author_patreon_flair',\n",
       " 'awarders',\n",
       " 'locked',\n",
       " 'subreddit_type',\n",
       " 'can_mod_post',\n",
       " 'is_reddit_media_domain',\n",
       " 'link_flair_text_color',\n",
       " 'is_original_content',\n",
       " 'subreddit',\n",
       " 'is_self',\n",
       " 'parent_whitelist_status',\n",
       " 'link_flair_richtext',\n",
       " 'stickied',\n",
       " 'is_video',\n",
       " 'pinned',\n",
       " 'pwls',\n",
       " 'author_flair_richtext',\n",
       " 'contest_mode',\n",
       " 'subreddit_id',\n",
       " 'media_only',\n",
       " 'author_flair_type',\n",
       " 'domain',\n",
       " 'is_meta',\n",
       " 'link_flair_type',\n",
       " 'author_patreon_flair',\n",
       " 'awarders',\n",
       " 'subreddit_type',\n",
       " 'can_mod_post',\n",
       " 'is_reddit_media_domain',\n",
       " 'link_flair_text_color',\n",
       " 'is_original_content',\n",
       " 'subreddit',\n",
       " 'is_self',\n",
       " 'parent_whitelist_status',\n",
       " 'link_flair_richtext']"
      ]
     },
     "execution_count": 119,
     "metadata": {},
     "output_type": "execute_result"
    }
   ],
   "source": [
    "not_useful"
   ]
  },
  {
   "cell_type": "code",
   "execution_count": 126,
   "metadata": {},
   "outputs": [],
   "source": [
    "not_useful = set(not_useful)\n",
    "jokes_v_dadjokes_cols = jokes_v_dadjokes.columns\n",
    "jokes_v_dadjokes_cols = set(jokes_v_dadjokes_cols)\n",
    "actually_not_useful = not_useful.intersection(jokes_v_dadjokes_cols)"
   ]
  },
  {
   "cell_type": "code",
   "execution_count": 127,
   "metadata": {},
   "outputs": [],
   "source": [
    "actually_not_useful = list(actually_not_useful)"
   ]
  },
  {
   "cell_type": "code",
   "execution_count": 128,
   "metadata": {},
   "outputs": [
    {
     "ename": "ValueError",
     "evalue": "list.remove(x): x not in list",
     "output_type": "error",
     "traceback": [
      "\u001b[0;31m---------------------------------------------------------------------------\u001b[0m",
      "\u001b[0;31mValueError\u001b[0m                                Traceback (most recent call last)",
      "\u001b[0;32m<ipython-input-128-5870d2a94122>\u001b[0m in \u001b[0;36m<module>\u001b[0;34m\u001b[0m\n\u001b[0;32m----> 1\u001b[0;31m \u001b[0mactually_not_useful\u001b[0m\u001b[0;34m.\u001b[0m\u001b[0mremove\u001b[0m\u001b[0;34m(\u001b[0m\u001b[0;34m'subreddit'\u001b[0m\u001b[0;34m)\u001b[0m\u001b[0;34m\u001b[0m\u001b[0;34m\u001b[0m\u001b[0m\n\u001b[0m",
      "\u001b[0;31mValueError\u001b[0m: list.remove(x): x not in list"
     ]
    }
   ],
   "source": [
    "actually_not_useful.remove('subreddit')"
   ]
  },
  {
   "cell_type": "code",
   "execution_count": 129,
   "metadata": {},
   "outputs": [
    {
     "data": {
      "text/plain": [
       "['awarders',\n",
       " 'link_flair_richtext',\n",
       " 'domain',\n",
       " 'stickied',\n",
       " 'author_flair_richtext',\n",
       " 'can_mod_post',\n",
       " 'author_flair_type',\n",
       " 'is_meta',\n",
       " 'pinned',\n",
       " 'link_flair_text_color',\n",
       " 'is_original_content',\n",
       " 'is_video',\n",
       " 'media_only',\n",
       " 'link_flair_type',\n",
       " 'subreddit_id',\n",
       " 'contest_mode',\n",
       " 'subreddit_type',\n",
       " 'is_self',\n",
       " 'parent_whitelist_status',\n",
       " 'locked',\n",
       " 'is_reddit_media_domain',\n",
       " 'pwls',\n",
       " 'author_patreon_flair']"
      ]
     },
     "execution_count": 129,
     "metadata": {},
     "output_type": "execute_result"
    }
   ],
   "source": [
    "actually_not_useful"
   ]
  },
  {
   "cell_type": "code",
   "execution_count": 130,
   "metadata": {},
   "outputs": [],
   "source": [
    "# let's go ahead and drop those\n",
    "\n",
    "jokes_v_dadjokes.drop(columns = actually_not_useful, inplace = True)"
   ]
  },
  {
   "cell_type": "code",
   "execution_count": 131,
   "metadata": {},
   "outputs": [
    {
     "data": {
      "text/plain": [
       "(9126, 29)"
      ]
     },
     "execution_count": 131,
     "metadata": {},
     "output_type": "execute_result"
    }
   ],
   "source": [
    "jokes_v_dadjokes.shape"
   ]
  },
  {
   "cell_type": "code",
   "execution_count": 132,
   "metadata": {},
   "outputs": [
    {
     "data": {
      "text/plain": [
       "dadjokes    4641\n",
       "Jokes       4485\n",
       "Name: subreddit, dtype: int64"
      ]
     },
     "execution_count": 132,
     "metadata": {},
     "output_type": "execute_result"
    }
   ],
   "source": [
    "# turn the subreddit name into a 0 or 1\n",
    "# 0 = jokes\n",
    "# 1 = dadjokes\n",
    "\n",
    "# make sure there are only two labels in the subreddit column\n",
    "jokes_v_dadjokes['subreddit'].value_counts()"
   ]
  },
  {
   "cell_type": "code",
   "execution_count": 133,
   "metadata": {},
   "outputs": [],
   "source": [
    "jokes_v_dadjokes['subreddit'].replace({\"dadjokes\": 1, \"Jokes\": 0}, inplace = True)"
   ]
  },
  {
   "cell_type": "code",
   "execution_count": 134,
   "metadata": {},
   "outputs": [],
   "source": [
    "# make column more descriptive\n",
    "jokes_v_dadjokes.rename(columns = {'subreddit':'is_dadjoke'}, inplace = True)"
   ]
  },
  {
   "cell_type": "code",
   "execution_count": 135,
   "metadata": {},
   "outputs": [],
   "source": [
    "jokes_v_dadjokes.to_csv('../data/jokes_v_dadjokes', index = False)"
   ]
  },
  {
   "cell_type": "markdown",
   "metadata": {},
   "source": [
    "# Cleaning Jokes and MommaJokes"
   ]
  },
  {
   "cell_type": "code",
   "execution_count": 6,
   "metadata": {},
   "outputs": [],
   "source": [
    "# read in data\n",
    "\n",
    "jokes = pd.read_csv('../data/jokes_5000.csv')\n",
    "momma_jokes = pd.read_csv('../data/momma_jokes_1372.csv')"
   ]
  },
  {
   "cell_type": "code",
   "execution_count": 12,
   "metadata": {},
   "outputs": [],
   "source": [
    "momma_jokes = momma_jokes[['title','selftext','subreddit']]"
   ]
  },
  {
   "cell_type": "code",
   "execution_count": 13,
   "metadata": {},
   "outputs": [
    {
     "name": "stdout",
     "output_type": "stream",
     "text": [
      "The problem columns are:  []\n",
      "After dropping the problem columns, you are left with  1.0 % of your columns.\n",
      "After dropping the problem columns, and then dropping all rows containing nulls,\n",
      " you are left with  0.8658892128279884 % of your rows.\n"
     ]
    },
    {
     "data": {
      "text/plain": [
       "[['selftext', 184, 0.134]]"
      ]
     },
     "execution_count": 13,
     "metadata": {},
     "output_type": "execute_result"
    }
   ],
   "source": [
    "null_cleaning(momma_jokes)"
   ]
  },
  {
   "cell_type": "code",
   "execution_count": 14,
   "metadata": {},
   "outputs": [],
   "source": [
    "jokes = jokes[['title','selftext','subreddit']]"
   ]
  },
  {
   "cell_type": "code",
   "execution_count": 15,
   "metadata": {},
   "outputs": [
    {
     "name": "stdout",
     "output_type": "stream",
     "text": [
      "The problem columns are:  []\n",
      "After dropping the problem columns, you are left with  1.0 % of your columns.\n",
      "After dropping the problem columns, and then dropping all rows containing nulls,\n",
      " you are left with  0.9646 % of your rows.\n"
     ]
    },
    {
     "data": {
      "text/plain": [
       "[['selftext', 177, 0.035]]"
      ]
     },
     "execution_count": 15,
     "metadata": {},
     "output_type": "execute_result"
    }
   ],
   "source": [
    "null_cleaning(jokes)"
   ]
  },
  {
   "cell_type": "code",
   "execution_count": 16,
   "metadata": {},
   "outputs": [],
   "source": [
    "jokes.dropna(inplace = True)"
   ]
  },
  {
   "cell_type": "code",
   "execution_count": 18,
   "metadata": {},
   "outputs": [
    {
     "data": {
      "text/plain": [
       "Int64Index([   0,    1,    2,    3,    4,    5,    6,    7,    8,    9,\n",
       "            ...\n",
       "            4990, 4991, 4992, 4993, 4994, 4995, 4996, 4997, 4998, 4999],\n",
       "           dtype='int64', length=4823)"
      ]
     },
     "execution_count": 18,
     "metadata": {},
     "output_type": "execute_result"
    }
   ],
   "source": [
    "jokes.index"
   ]
  },
  {
   "cell_type": "code",
   "execution_count": 19,
   "metadata": {},
   "outputs": [
    {
     "data": {
      "text/plain": [
       "(1372, 3)"
      ]
     },
     "execution_count": 19,
     "metadata": {},
     "output_type": "execute_result"
    }
   ],
   "source": [
    "momma_jokes.shape"
   ]
  },
  {
   "cell_type": "code",
   "execution_count": 36,
   "metadata": {},
   "outputs": [],
   "source": [
    "n = jokes.shape[0] - momma_jokes.shape[0]\n",
    "rows_to_drop = np.random.choice(list(range(0,4820)), n, replace = False)"
   ]
  },
  {
   "cell_type": "code",
   "execution_count": 37,
   "metadata": {},
   "outputs": [
    {
     "data": {
      "text/plain": [
       "3451"
      ]
     },
     "execution_count": 37,
     "metadata": {},
     "output_type": "execute_result"
    }
   ],
   "source": [
    "len(rows_to_drop)"
   ]
  },
  {
   "cell_type": "code",
   "execution_count": 38,
   "metadata": {},
   "outputs": [],
   "source": [
    "jokes_short = jokes.drop(jokes.index[rows_to_drop])"
   ]
  },
  {
   "cell_type": "code",
   "execution_count": 39,
   "metadata": {},
   "outputs": [
    {
     "data": {
      "text/plain": [
       "(1372, 3)"
      ]
     },
     "execution_count": 39,
     "metadata": {},
     "output_type": "execute_result"
    }
   ],
   "source": [
    "jokes_short.shape"
   ]
  },
  {
   "cell_type": "code",
   "execution_count": 40,
   "metadata": {},
   "outputs": [],
   "source": [
    "jokes = jokes_short"
   ]
  },
  {
   "cell_type": "code",
   "execution_count": 41,
   "metadata": {},
   "outputs": [],
   "source": [
    "jokes_v_mommajokes = merge_reddit_dfs([jokes, momma_jokes])"
   ]
  },
  {
   "cell_type": "code",
   "execution_count": 42,
   "metadata": {},
   "outputs": [
    {
     "data": {
      "text/plain": [
       "(2744, 3)"
      ]
     },
     "execution_count": 42,
     "metadata": {},
     "output_type": "execute_result"
    }
   ],
   "source": [
    "jokes_v_mommajokes.shape"
   ]
  },
  {
   "cell_type": "code",
   "execution_count": 43,
   "metadata": {},
   "outputs": [
    {
     "data": {
      "text/plain": [
       "Jokes         1372\n",
       "MommaJokes    1372\n",
       "Name: subreddit, dtype: int64"
      ]
     },
     "execution_count": 43,
     "metadata": {},
     "output_type": "execute_result"
    }
   ],
   "source": [
    "# make sure there are only two labels in the subreddit column\n",
    "jokes_v_mommajokes['subreddit'].value_counts()"
   ]
  },
  {
   "cell_type": "code",
   "execution_count": 46,
   "metadata": {},
   "outputs": [],
   "source": [
    "jokes_v_mommajokes['subreddit'].replace({\"MommaJokes\": 1, \"Jokes\": 0}, inplace = True)\n",
    "# make column more descriptive\n",
    "jokes_v_mommajokes.rename(columns = {'subreddit':'is_mommajoke'}, inplace = True)"
   ]
  },
  {
   "cell_type": "code",
   "execution_count": 47,
   "metadata": {},
   "outputs": [],
   "source": [
    "jokes_v_mommajokes.to_csv('../data/jokes_v_mommajokes', index = False)"
   ]
  },
  {
   "cell_type": "markdown",
   "metadata": {},
   "source": [
    "# Cleaning CleanJokes and DirtyJokes"
   ]
  },
  {
   "cell_type": "code",
   "execution_count": 60,
   "metadata": {},
   "outputs": [],
   "source": [
    "# read in data\n",
    "\n",
    "clean_jokes = pd.read_csv('../data/clean_jokes_5000.csv')\n",
    "dirty_jokes = pd.read_csv('../data/dirty_jokes_5000.csv')"
   ]
  },
  {
   "cell_type": "code",
   "execution_count": 61,
   "metadata": {},
   "outputs": [],
   "source": [
    "clean_jokes = clean_jokes[['title','selftext','subreddit']]"
   ]
  },
  {
   "cell_type": "code",
   "execution_count": 62,
   "metadata": {},
   "outputs": [
    {
     "data": {
      "text/plain": [
       "166"
      ]
     },
     "execution_count": 62,
     "metadata": {},
     "output_type": "execute_result"
    }
   ],
   "source": [
    "clean_jokes.isna().sum().sum()"
   ]
  },
  {
   "cell_type": "code",
   "execution_count": 63,
   "metadata": {},
   "outputs": [
    {
     "name": "stdout",
     "output_type": "stream",
     "text": [
      "The problem columns are:  []\n",
      "After dropping the problem columns, you are left with  1.0 % of your columns.\n",
      "After dropping the problem columns, and then dropping all rows containing nulls,\n",
      " you are left with  0.9668 % of your rows.\n"
     ]
    },
    {
     "data": {
      "text/plain": [
       "[['selftext', 166, 0.033]]"
      ]
     },
     "execution_count": 63,
     "metadata": {},
     "output_type": "execute_result"
    }
   ],
   "source": [
    "null_cleaning(clean_jokes)"
   ]
  },
  {
   "cell_type": "code",
   "execution_count": 64,
   "metadata": {},
   "outputs": [],
   "source": [
    "dirty_jokes = dirty_jokes[['title','selftext','subreddit']]"
   ]
  },
  {
   "cell_type": "code",
   "execution_count": 65,
   "metadata": {},
   "outputs": [
    {
     "data": {
      "text/plain": [
       "212"
      ]
     },
     "execution_count": 65,
     "metadata": {},
     "output_type": "execute_result"
    }
   ],
   "source": [
    "dirty_jokes.isna().sum().sum()"
   ]
  },
  {
   "cell_type": "code",
   "execution_count": 66,
   "metadata": {},
   "outputs": [],
   "source": [
    "clean_v_dirty = merge_reddit_dfs([clean_jokes, dirty_jokes])"
   ]
  },
  {
   "cell_type": "code",
   "execution_count": 67,
   "metadata": {},
   "outputs": [
    {
     "data": {
      "text/plain": [
       "cleanjokes    5000\n",
       "DirtyJokes    4276\n",
       "Name: subreddit, dtype: int64"
      ]
     },
     "execution_count": 67,
     "metadata": {},
     "output_type": "execute_result"
    }
   ],
   "source": [
    "clean_v_dirty['subreddit'].value_counts()"
   ]
  },
  {
   "cell_type": "code",
   "execution_count": 68,
   "metadata": {},
   "outputs": [],
   "source": [
    "clean_v_dirty['subreddit'].replace({\"DirtyJokes\": 1, \"cleanjokes\": 0}, inplace = True)\n",
    "# make column more descriptive\n",
    "clean_v_dirty.rename(columns = {'subreddit':'is_dirtyjoke'}, inplace = True)"
   ]
  },
  {
   "cell_type": "code",
   "execution_count": 69,
   "metadata": {},
   "outputs": [],
   "source": [
    "clean_v_dirty.to_csv('../data/clean_v_dirty.csv', index = False)"
   ]
  },
  {
   "cell_type": "markdown",
   "metadata": {},
   "source": [
    "# Data Dictionary"
   ]
  },
  {
   "cell_type": "markdown",
   "metadata": {},
   "source": [
    "|Feature|Type|Dataset|Description|\n",
    "|---|---|---|---|\n",
    "|**title**|*object*|all|The title of the subreddit submission.| \n",
    "|**selftext**|*object*|all|The body of the subreddit submission.|\n",
    "|**is_dadjoke**|*integer*|jokes_v_dadjokes|0 if the submission is from /r/Jokes, 1 if the submission is from /r/DadJokes.|\n",
    "|**is_mommajoke**|*integer*|jokes_v_mommajokes|0 if the submission is from /r/Jokes, 1 if the submission is from /r/MommaJokes.|\n",
    "|**is_dirtyjoke**|*integer*|clean_v_dirty|0 if the submission is from /r/CleanJokes, 1 if the submission is from /r/DirtyJokes.|\n"
   ]
  },
  {
   "cell_type": "code",
   "execution_count": null,
   "metadata": {},
   "outputs": [],
   "source": []
  }
 ],
 "metadata": {
  "kernelspec": {
   "display_name": "Python 3",
   "language": "python",
   "name": "python3"
  },
  "language_info": {
   "codemirror_mode": {
    "name": "ipython",
    "version": 3
   },
   "file_extension": ".py",
   "mimetype": "text/x-python",
   "name": "python",
   "nbconvert_exporter": "python",
   "pygments_lexer": "ipython3",
   "version": "3.7.4"
  }
 },
 "nbformat": 4,
 "nbformat_minor": 2
}
